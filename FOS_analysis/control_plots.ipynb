{
 "cells": [
  {
   "cell_type": "code",
   "execution_count": 26,
   "id": "9666359c",
   "metadata": {},
   "outputs": [],
   "source": [
    "import numpy as np\n",
    "import matplotlib.pyplot as plt\n",
    "import scipy.io\n",
    "import os\n",
    "patients = ['HUP64', 'HUP68','HUP70','HUP72','HUP78','HUP86','MAYO010','MAYO011','MAYO016','MAYO020']\n",
    "# patients = ['HUP78']\n",
    "main_pathname = 'c:/Users/yaoyu/Documents/Epilepsy_research/data_v2'"
   ]
  },
  {
   "cell_type": "code",
   "execution_count": null,
   "id": "e1801fb3",
   "metadata": {},
   "outputs": [],
   "source": [
    "\n",
    "for patient in patients: \n",
    "    for seizure in range (1, 9):\n",
    "        file_path = os.path.join(main_pathname, patient, f\"controlled_data_block_{seizure}.mat\")\n",
    "        if os.path.exists(file_path):\n",
    "            ctrl_data = scipy.io.loadmat(file_path)\n",
    "            eigen_before = ctrl_data[\"eigs_before\"].flatten()\n",
    "            eigen_after = ctrl_data[\"eigs_after\"].flatten()\n",
    "\n",
    "            plt.figure(figsize=(6, 6))\n",
    "            unit_circle = plt.Circle((0, 0), 1, color='gray', fill=False, linestyle='--')\n",
    "\n",
    "            fig_ax = plt.gca()\n",
    "            fig_ax.add_artist(unit_circle)\n",
    "\n",
    "            plt.scatter(eigen_before.real, eigen_before.imag, color='red', alpha=0.6, label='Before control')\n",
    "            plt.scatter(eigen_after.real, eigen_after.imag,  color='blue', alpha=0.6, label='After control')\n",
    "\n",
    "            plt.axhline(0, color='black', linewidth=0.5)\n",
    "            plt.axvline(0, color='black', linewidth=0.5)\n",
    "\n",
    "            plt.xlabel('Real')\n",
    "            plt.ylabel('Imaginary')\n",
    "            plt.title(f'{patient}_{seizure} Eigenvalues before and after control')\n",
    "            plt.axis('equal')\n",
    "            plt.grid(True)\n",
    "            plt.legend()\n",
    "            plt.tight_layout()\n",
    "            plt.show()\n"
   ]
  },
  {
   "cell_type": "code",
   "execution_count": null,
   "id": "c0b10dde",
   "metadata": {},
   "outputs": [],
   "source": []
  },
  {
   "cell_type": "code",
   "execution_count": null,
   "id": "517fad65",
   "metadata": {},
   "outputs": [],
   "source": []
  }
 ],
 "metadata": {
  "kernelspec": {
   "display_name": "base",
   "language": "python",
   "name": "python3"
  },
  "language_info": {
   "codemirror_mode": {
    "name": "ipython",
    "version": 3
   },
   "file_extension": ".py",
   "mimetype": "text/x-python",
   "name": "python",
   "nbconvert_exporter": "python",
   "pygments_lexer": "ipython3",
   "version": "3.12.3"
  }
 },
 "nbformat": 4,
 "nbformat_minor": 5
}
