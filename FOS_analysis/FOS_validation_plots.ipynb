{
 "cells": [
  {
   "cell_type": "code",
   "execution_count": null,
   "id": "afdd412d",
   "metadata": {},
   "outputs": [
    {
     "data": {
      "image/png": "[encoded data removed]",
      "text/plain": [
       "<Figure size 1200x200 with 2 Axes>"
      ]
     },
     "metadata": {},
     "output_type": "display_data"
    },
    {
     "ename": "TypeError",
     "evalue": "Cannot interpret '98' as a data type",
     "output_type": "error",
     "traceback": [
      "\u001b[1;31m---------------------------------------------------------------------------\u001b[0m",
      "\u001b[1;31mTypeError\u001b[0m                                 Traceback (most recent call last)",
      "Cell \u001b[1;32mIn[2], line 58\u001b[0m\n\u001b[0;32m     54\u001b[0m plt\u001b[38;5;241m.\u001b[39mshow()\n\u001b[0;32m     56\u001b[0m \u001b[38;5;66;03m# temporal heatmap \u001b[39;00m\n\u001b[0;32m     57\u001b[0m \u001b[38;5;66;03m# 1 second chunks for r2\u001b[39;00m\n\u001b[1;32m---> 58\u001b[0m r2_temporal \u001b[38;5;241m=\u001b[39m \u001b[43mnp\u001b[49m\u001b[38;5;241;43m.\u001b[39;49m\u001b[43mzeros_like\u001b[49m\u001b[43m(\u001b[49m\u001b[43mnum_chns\u001b[49m\u001b[43m,\u001b[49m\u001b[43m \u001b[49m\u001b[43mwindows\u001b[49m\u001b[43m)\u001b[49m\n\u001b[0;32m     59\u001b[0m \u001b[38;5;28;01mfor\u001b[39;00m i \u001b[38;5;129;01min\u001b[39;00m \u001b[38;5;28mrange\u001b[39m(windows):\n\u001b[0;32m     60\u001b[0m     window_slice \u001b[38;5;241m=\u001b[39m \u001b[38;5;28mslice\u001b[39m(i\u001b[38;5;241m*\u001b[39msampling_rate, (i\u001b[38;5;241m+\u001b[39m\u001b[38;5;241m1\u001b[39m)\u001b[38;5;241m*\u001b[39msampling_rate)\n",
      "File \u001b[1;32mc:\\Users\\yaoyu\\miniconda3\\Lib\\site-packages\\numpy\\_core\\numeric.py:134\u001b[0m, in \u001b[0;36mzeros_like\u001b[1;34m(a, dtype, order, subok, shape, device)\u001b[0m\n\u001b[0;32m     65\u001b[0m \u001b[38;5;129m@array_function_dispatch\u001b[39m(_zeros_like_dispatcher)\n\u001b[0;32m     66\u001b[0m \u001b[38;5;28;01mdef\u001b[39;00m \u001b[38;5;21mzeros_like\u001b[39m(\n\u001b[0;32m     67\u001b[0m     a, dtype\u001b[38;5;241m=\u001b[39m\u001b[38;5;28;01mNone\u001b[39;00m, order\u001b[38;5;241m=\u001b[39m\u001b[38;5;124m'\u001b[39m\u001b[38;5;124mK\u001b[39m\u001b[38;5;124m'\u001b[39m, subok\u001b[38;5;241m=\u001b[39m\u001b[38;5;28;01mTrue\u001b[39;00m, shape\u001b[38;5;241m=\u001b[39m\u001b[38;5;28;01mNone\u001b[39;00m, \u001b[38;5;241m*\u001b[39m, device\u001b[38;5;241m=\u001b[39m\u001b[38;5;28;01mNone\u001b[39;00m\n\u001b[0;32m     68\u001b[0m ):\n\u001b[0;32m     69\u001b[0m \u001b[38;5;250m    \u001b[39m\u001b[38;5;124;03m\"\"\"\u001b[39;00m\n\u001b[0;32m     70\u001b[0m \u001b[38;5;124;03m    Return an array of zeros with the same shape and type as a given array.\u001b[39;00m\n\u001b[0;32m     71\u001b[0m \n\u001b[1;32m   (...)\u001b[0m\n\u001b[0;32m    132\u001b[0m \n\u001b[0;32m    133\u001b[0m \u001b[38;5;124;03m    \"\"\"\u001b[39;00m\n\u001b[1;32m--> 134\u001b[0m     res \u001b[38;5;241m=\u001b[39m \u001b[43mempty_like\u001b[49m\u001b[43m(\u001b[49m\n\u001b[0;32m    135\u001b[0m \u001b[43m        \u001b[49m\u001b[43ma\u001b[49m\u001b[43m,\u001b[49m\u001b[43m \u001b[49m\u001b[43mdtype\u001b[49m\u001b[38;5;241;43m=\u001b[39;49m\u001b[43mdtype\u001b[49m\u001b[43m,\u001b[49m\u001b[43m \u001b[49m\u001b[43morder\u001b[49m\u001b[38;5;241;43m=\u001b[39;49m\u001b[43morder\u001b[49m\u001b[43m,\u001b[49m\u001b[43m \u001b[49m\u001b[43msubok\u001b[49m\u001b[38;5;241;43m=\u001b[39;49m\u001b[43msubok\u001b[49m\u001b[43m,\u001b[49m\u001b[43m \u001b[49m\u001b[43mshape\u001b[49m\u001b[38;5;241;43m=\u001b[39;49m\u001b[43mshape\u001b[49m\u001b[43m,\u001b[49m\u001b[43m \u001b[49m\u001b[43mdevice\u001b[49m\u001b[38;5;241;43m=\u001b[39;49m\u001b[43mdevice\u001b[49m\n\u001b[0;32m    136\u001b[0m \u001b[43m    \u001b[49m\u001b[43m)\u001b[49m\n\u001b[0;32m    137\u001b[0m     \u001b[38;5;66;03m# needed instead of a 0 to get same result as zeros for string dtypes\u001b[39;00m\n\u001b[0;32m    138\u001b[0m     z \u001b[38;5;241m=\u001b[39m zeros(\u001b[38;5;241m1\u001b[39m, dtype\u001b[38;5;241m=\u001b[39mres\u001b[38;5;241m.\u001b[39mdtype)\n",
      "\u001b[1;31mTypeError\u001b[0m: Cannot interpret '98' as a data type"
     ]
    }
   ],
   "source": [
    "import numpy as np \n",
    "import os \n",
    "import scipy.io\n",
    "from sklearn.metrics import r2_score \n",
    "import matplotlib.pyplot as plt\n",
    "import seaborn as sns\n",
    "main_pathname = 'c:/Users/yaoyu/Documents/Epilepsy_research/'\n",
    "window_length = 3\n",
    "stride = 1\n",
    "# Checking abnormal patients, making sure FOS fits corrects \n",
    "\n",
    "patients = ['HUP64', 'HUP68','HUP72','HUP78','HUP86','MAYO010','MAYO011','MAYO016','MAYO020']\n",
    "patients = ['HUP64']\n",
    "for patient in patients: \n",
    "    for seizure in range(1, 9):\n",
    "        for phase in ['interictal', 'ictal']:\n",
    "            path = os.path.join(main_pathname, 'data_v2', patient, f'{phase}-block-{seizure}_parameters_3sec_1iter.mat')\n",
    "            if(os.path.exists(path)):\n",
    "                parameters = scipy.io.loadmat(path)\n",
    "                raw_signal = scipy.io.loadmat(os.path.join(main_pathname, 'data', patient, f'{patient}-{phase}-block-{seizure}.mat'))\n",
    "\n",
    "                alpha = parameters['alpha']\n",
    "                A_matrix = parameters['A']\n",
    "                xPred = parameters['xPred']\n",
    "                evData = raw_signal['evData']\n",
    "                sampling_rate = int(np.ceil(raw_signal['Fs'][0][0]))\n",
    "                window_samples = sampling_rate*window_length\n",
    "                stride_samples = sampling_rate*stride\n",
    "                num_chns, data_points = evData.shape\n",
    "                windows = alpha.shape[1]\n",
    "\n",
    "                counts = np.zeros(data_points)\n",
    "                evData_centered = np.zeros_like(evData)\n",
    "                # need to locally center windowed raw data for r squared\n",
    "                for window, start_idx in enumerate(range(0, data_points - window_samples + 1, stride_samples)):\n",
    "                    X = evData[:, start_idx:start_idx + window_samples]\n",
    "                    X = X - np.mean(X, axis = 1, keepdims=True)\n",
    "                    evData_centered[:, start_idx:start_idx + window_samples] += X\n",
    "                    counts[start_idx:start_idx + window_samples] += 1\n",
    "\n",
    "                counts[counts == 0] = 1\n",
    "                evData_centered /= counts[np.newaxis, :]\n",
    "\n",
    "                # 1xchannel heatmap \n",
    "\n",
    "                r2_scores = [r2_score(evData_centered[ch], xPred[ch]) for ch in range(num_chns)]\n",
    "\n",
    "                plt.figure(figsize=(12, 2))\n",
    "                sns.heatmap(np.array(r2_scores).reshape(-1, 1), cmap='viridis', cbar=True, yticklabels=True)\n",
    "                plt.title(f'R² per channel | {patient} Seizure {seizure} ({phase})')\n",
    "                plt.ylabel('Channel Index')\n",
    "                plt.xlabel('')\n",
    "                plt.yticks([])\n",
    "                plt.show()\n",
    "\n",
    "                # temporal heatmap \n",
    "                # 1 second chunks for r2\n",
    "                r2_temporal = np.zeros_like((num_chns, windows))\n",
    "                for i in range(windows):\n",
    "                    window_slice = slice(i*sampling_rate, (i+1)*sampling_rate)\n",
    "                    for ch in range(num_chns):\n",
    "                        try:\n",
    "                            r2_temporal[ch, i] = r2_score(evData_centered[ch, window_slice], xPred[ch, window_slice])\n",
    "                        except: \n",
    "                            r2_temporal[ch, i] = np.nan \n",
    "                \n",
    "                plt.figure(figsize=(12, 8))\n",
    "                sns.heatmap(r2_temporal, cmap='viridis', vmin=0, vmax=1, cbar=True)\n",
    "\n",
    "                # Label axes\n",
    "                plt.title(f'Temporal R² | {patient} Seizure {seizure} ({phase})')\n",
    "                plt.xlabel('Time (s)')\n",
    "                plt.ylabel('Channel Index')\n",
    "\n",
    "                # Time ticks in seconds\n",
    "                xtick_locs = np.linspace(0, windows - 1, 6, dtype=int)\n",
    "                xtick_labels = [str(i) for i in xtick_locs]\n",
    "                plt.xticks(xtick_locs, xtick_labels)\n",
    "\n",
    "                plt.tight_layout()\n",
    "                plt.show()\n",
    "\n"
   ]
  }
 ],
 "metadata": {
  "kernelspec": {
   "display_name": "base",
   "language": "python",
   "name": "python3"
  },
  "language_info": {
   "codemirror_mode": {
    "name": "ipython",
    "version": 3
   },
   "file_extension": ".py",
   "mimetype": "text/x-python",
   "name": "python",
   "nbconvert_exporter": "python",
   "pygments_lexer": "ipython3",
   "version": "3.12.3"
  }
 },
 "nbformat": 4,
 "nbformat_minor": 5
}
